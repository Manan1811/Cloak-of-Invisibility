{
 "cells": [
  {
   "cell_type": "markdown",
   "metadata": {},
   "source": [
    "# Invisibility Cloak"
   ]
  },
  {
   "cell_type": "code",
   "execution_count": 22,
   "metadata": {},
   "outputs": [],
   "source": [
    "import numpy as np \n",
    "import cv2 \n",
    "import time "
   ]
  },
  {
   "cell_type": "code",
   "execution_count": 32,
   "metadata": {},
   "outputs": [],
   "source": [
    "cap =cv2.VideoCapture(0)\n",
    "time.sleep(3)\n",
    "#background image when i put cloak on myself\n",
    "background=0\n",
    "\n",
    "#capturing the background slowly or we can do it in a click also \n",
    "for i in range(30):\n",
    "    ret , background = cap.read()\n",
    "\n",
    "#capturing the image    \n",
    "while(cap.isOpened()):\n",
    "    ret , img = cap.read()\n",
    "    \n",
    "    if not ret:\n",
    "        break\n",
    "        \n",
    "    \n",
    "    hsv=cv2.cvtColor(img, cv2.COLOR_BGR2HSV)\n",
    "    #Hue, Saturation(Darkness) and Value(Brightness)\n",
    "    #HSV is also called HSB where B is Brightness\n",
    "    # Even though Hue varies from 0-360 but OpenCV can store only 8 bits so we can have value from (0-180 only)\n",
    "    \n",
    "    lower_red = np.array([165,120,70])\n",
    "    upper_red = np.array([180,255,255])\n",
    "    # 1st value 0-10 (0(dark red)-30(almost orange) combination of red) 2nd val - 120-255 darkness and 3rd 70-255 brightness\n",
    "    \n",
    "    mask1 = cv2.inRange(hsv , lower_red , upper_red) # separating the cloak part\n",
    "    \n",
    "    lower_red = np.array([310,91,62])\n",
    "    upper_red = np.array([320,255,255])\n",
    "    mask2 = cv2.inRange(hsv , lower_red , upper_red)\n",
    "    \n",
    "    mask1 = mask1 + mask2 #OR 1 or x\n",
    "    mask1=cv2.morphologyEx(mask1, cv2.MORPH_OPEN ,np.ones((3,3) , np.uint8) , iterations=2) #will remove all noise from the background & iterations-2 remove hi krega noise(can change)\n",
    "        \n",
    "    mask2=cv2.morphologyEx(mask1, cv2.MORPH_DILATE ,np.ones((3,3) , np.uint8) , iterations=1)# will increase smoothness of picture\n",
    "        \n",
    "    mask2 = cv2.bitwise_not(mask1) #Except the cloak, eveything will be restored as in the background\n",
    "    \n",
    "    res1 = cv2.bitwise_and(background, background, mask=mask1) #use for segmentation of color\n",
    "    res2 = cv2.bitwise_and(img, img, mask=mask2) #used to substitute the cloak part\n",
    "    \n",
    "    final_output = cv2.addWeighted(res1 , 1, res2 , 1, 0)\n",
    "    cv2.imshow('Maverick- Manan' , final_output)\n",
    "    k=cv2.waitKey(10)\n",
    "    if k==27: #Esc key\n",
    "        break\n",
    "        \n",
    "cap.release()\n",
    "cv2.destroyAllWindows()\n",
    "    \n",
    "    \n",
    "    "
   ]
  },
  {
   "cell_type": "code",
   "execution_count": null,
   "metadata": {},
   "outputs": [],
   "source": []
  },
  {
   "cell_type": "code",
   "execution_count": null,
   "metadata": {},
   "outputs": [],
   "source": []
  },
  {
   "cell_type": "code",
   "execution_count": null,
   "metadata": {},
   "outputs": [],
   "source": []
  }
 ],
 "metadata": {
  "kernelspec": {
   "display_name": "Python 3",
   "language": "python",
   "name": "python3"
  },
  "language_info": {
   "codemirror_mode": {
    "name": "ipython",
    "version": 3
   },
   "file_extension": ".py",
   "mimetype": "text/x-python",
   "name": "python",
   "nbconvert_exporter": "python",
   "pygments_lexer": "ipython3",
   "version": "3.7.4"
  }
 },
 "nbformat": 4,
 "nbformat_minor": 2
}
